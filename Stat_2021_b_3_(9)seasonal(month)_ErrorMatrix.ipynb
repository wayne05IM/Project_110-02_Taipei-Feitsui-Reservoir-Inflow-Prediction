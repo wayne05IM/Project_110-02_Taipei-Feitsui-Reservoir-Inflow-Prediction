{
 "cells": [
  {
   "cell_type": "code",
   "execution_count": null,
   "metadata": {},
   "outputs": [],
   "source": [
    "#載入所需函示庫\n",
    "from matplotlib import pyplot as plt\n",
    "%matplotlib inline\n",
    "# 設定圖形大小; DPI越大圖越大\n",
    "plt.rcParams[\"figure.dpi\"] = 100\n",
    "import seaborn as sns\n",
    "import pandas as pd\n",
    "import numpy as np\n",
    "import scipy.stats as stats\n",
    "import statsmodels.api as sm\n",
    "import statsmodels.stats.api as sms\n",
    "import statsmodels.formula.api as smf\n",
    "import statsmodels.stats.multicomp as smm\n",
    "import statsmodels.stats.outliers_influence as sso\n",
    "import math\n",
    "import statistics\n",
    "from statsmodels.tsa.api import Holt\n",
    "from statsmodels.tsa.ar_model import AutoReg, ar_select_order\n",
    "from matplotlib.font_manager import FontProperties\n",
    "import matplotlib.pyplot as plt"
   ]
  },
  {
   "cell_type": "code",
   "execution_count": null,
   "metadata": {},
   "outputs": [],
   "source": [
    "def SI_LR(y_v, n):\n",
    "    y_data = y_v\n",
    "    X_data_ar = np.arange(1, len(y_v)+1)\n",
    "    X_data_T = X_data_ar.T\n",
    "    X_data = pd.DataFrame(X_data_T,columns = ['Time'])\n",
    "    X_data = sm.add_constant(X_data)\n",
    "    olsmod = sm.OLS(y_data, X_data)\n",
    "    result_reg = olsmod.fit()\n",
    "    st, data, ss2 = sso.summary_table(result_reg, alpha=0.05)\n",
    "    y_v_LR_a = data[:, 2]\n",
    "    SI_LR_a = y_v / y_v_LR_a\n",
    "    SI_id_s = np.arange(1,len(y_v)+1)\n",
    "    SI_id = SI_id_s - np.floor(SI_id_s / n) * n\n",
    "    SI_id[np.where((SI_id[:] == 0))] = n\n",
    "    SI_LR_a_df = pd.DataFrame({'SILR': SI_LR_a, 'SIid': SI_id})\n",
    "    SI_LR_u = np.zeros(n)\n",
    "    for j in range(1,n+1):\n",
    "        SI_LR_u[j-1] = SI_LR_a_df['SILR'][SI_LR_a_df['SIid'] == j].dropna().mean()\n",
    "    SI_LR = SI_LR_u / sum(SI_LR_u) * n\n",
    "    print('Seasonal Index:', SI_LR)\n",
    "    print('\\n')\n",
    "    y_v_SI_LR = np.zeros(len(y_v))\n",
    "    DSI_y_v = np.zeros(len(y_v))\n",
    "    for k in range(0,len(y_v)):\n",
    "        Idd = int(SI_LR_a_df['SIid'][k] - 1)\n",
    "        y_v_SI_LR[k] = SI_LR[Idd]\n",
    "        DSI_y_v[k] = y_v[k] / SI_LR[Idd]\n",
    "    print('Deseasonalized Data:', DSI_y_v)\n",
    "    SI_LR_result_a = np.array([SI_LR_a_df['SIid'], y_v_SI_LR, y_v, DSI_y_v])\n",
    "    SI_LR_result_df = pd.DataFrame(SI_LR_result_a.T, columns = ['SID', 'SeaIdx', 'orig', 'Des_D'])\n",
    "    return {\"LR_ind\":SI_LR, \"SI_LR_res\":SI_LR_result_df}"
   ]
  },
  {
   "cell_type": "code",
   "execution_count": null,
   "metadata": {},
   "outputs": [],
   "source": [
    "def runsTest(l, l_median): \n",
    "    runs, n1, n2 = 1, 0, 0\n",
    "    if(l[0]) >= l_median:\n",
    "        n1 += 1   \n",
    "    else:\n",
    "        n2 += 1   \n",
    "    for i in range(1, len(l)): \n",
    "        if (l[i] >= l_median and l[i-1] < l_median) or (l[i] < l_median and l[i-1] >= l_median):\n",
    "            runs += 1  \n",
    "        if(l[i]) >= l_median: \n",
    "            n1 += 1   \n",
    "        else: \n",
    "            n2 += 1   \n",
    "    runs_exp = ((2*n1*n2)/(n1+n2)) + 1\n",
    "    stan_dev = math.sqrt((2*n1*n2*(2*n1*n2-n1-n2))/(((n1+n2)**2)*(n1+n2-1))) \n",
    "    z = (runs-runs_exp)/stan_dev\n",
    "    pval_z = stats.norm.sf(abs(z)) * 2\n",
    "    print('runs = ', runs)\n",
    "    print('n1 = ', n1)\n",
    "    print('n2 = ', n2)\n",
    "    print('runs_exp = ', runs_exp)\n",
    "    print('stan_dev = ', stan_dev)\n",
    "    print('z = ', z)\n",
    "    print('pval_z = ', pval_z)\n",
    "    return pval_z"
   ]
  },
  {
   "cell_type": "code",
   "execution_count": null,
   "metadata": {},
   "outputs": [],
   "source": [
    "def Durbin_Watson_test(x):\n",
    "    x_square_sum = np.vdot(x, x)\n",
    "    print(\"x_square_sum = \", x_square_sum)\n",
    "    size = x.size\n",
    "    print(\"size = \", size)\n",
    "    x_d = np.zeros((size))\n",
    "    #print(\"x_d = \", x_d)\n",
    "    l_size = size - 1\n",
    "    for i in range(l_size):\n",
    "        x_d[i + 1] = x[i + 1] - x[i]\n",
    "    print(\"x_d = \", x_d)\n",
    "    d = np.vdot(x_d, x_d) / x_square_sum\n",
    "    print(\"d = \", d)\n",
    "    return(d)"
   ]
  },
  {
   "cell_type": "code",
   "execution_count": null,
   "metadata": {},
   "outputs": [],
   "source": [
    "def SI_MA(y_v, n):\n",
    "    y_v_MA_a = np.zeros(len(y_v))\n",
    "    y_v_MA_a[:] = np.nan\n",
    "    mvlen = n\n",
    "    if n % 2 == 0:\n",
    "        halfwin = int(mvlen / 2)\n",
    "        y_v_MA_ta = np.zeros(len(y_v))\n",
    "        for i in range(halfwin, len(y_v) - halfwin + 1):\n",
    "            y_v_MA_ta[i] = np.mean(y_v[(i-halfwin): (i+halfwin)])\n",
    "        for ii in range(halfwin, len(y_v) - halfwin):\n",
    "            y_v_MA_a[ii] = np.mean(y_v_MA_ta[(ii): (ii+2)])\n",
    "    else:\n",
    "        halfwin = int((mvlen - 1) / 2)\n",
    "        for i in range(halfwin, len(y_v) - halfwin):\n",
    "            y_v_MA_a[i] = np.mean(y_v[(i-halfwin): (i+halfwin+1)])\n",
    "    SI_MA_a = np.zeros(len(y_v))\n",
    "    SI_MA_a[:] = np.nan\n",
    "    SI_MA_a = y_v / y_v_MA_a    \n",
    "    SI_id_s = np.arange(1,len(y_v)+1)\n",
    "    SI_id = SI_id_s - np.floor(SI_id_s / n) * n\n",
    "    SI_id[np.where((SI_id[:] == 0))] = n\n",
    "    SI_MA_a_df = pd.DataFrame({'SIMA': SI_MA_a, 'SIid': SI_id})\n",
    "    SI_MA_u = np.zeros(n)\n",
    "    for j in range(1,n+1):\n",
    "        SI_MA_u[j-1] = SI_MA_a_df['SIMA'][SI_MA_a_df['SIid'] == j].dropna().mean()  \n",
    "    SI_MA = SI_MA_u / sum(SI_MA_u) * n\n",
    "    print('Seasonal Index:', SI_MA ) \n",
    "    y_v_SI_MA = np.zeros(len(y_v))\n",
    "    DSI_y_v = np.zeros(len(y_v))\n",
    "    for k in range(0,len(y_v)):\n",
    "        Idd = int(SI_MA_a_df['SIid'][k] - 1)\n",
    "        y_v_SI_MA[k] = SI_MA[Idd]\n",
    "        DSI_y_v[k] = y_v[k] / SI_MA[Idd]\n",
    "    print('Deseasonalized Data:', DSI_y_v)\n",
    "    SI_MA_result_a = np.array([SI_MA_a_df['SIid'], y_v_SI_MA, y_v, DSI_y_v])\n",
    "    SI_MA_result_df = pd.DataFrame(SI_MA_result_a.T, columns = ['SID', 'SeaIdx', 'orig', 'Des_D'])\n",
    "    return {\"ma_ind\":SI_MA, \"SI_MA_res\":SI_MA_result_df}"
   ]
  },
  {
   "cell_type": "code",
   "execution_count": null,
   "metadata": {},
   "outputs": [],
   "source": [
    "def ErrMetrix(y_v, f_v):\n",
    "    y_v_n = pd.DataFrame({'orig': y_v})\n",
    "    f_v_n = pd.DataFrame({'forecast': f_v})\n",
    "    err1 = (y_v_n['orig'] - f_v_n['forecast']).dropna().values\n",
    "    err1p = ((y_v_n['orig'] - f_v_n['forecast'])/ y_v_n['orig']).dropna().values\n",
    "    MAD = round(np.absolute(err1).mean(),6)\n",
    "    MSE = round(np.mean(err1 * err1),6)\n",
    "    RMSE = round(np.sqrt(np.mean(err1 * err1)),6)\n",
    "    MAPE = round(np.absolute(err1p).mean() * 100, 6)\n",
    "    print(\"MAD = \", MAD)\n",
    "    print(\"MSE = \", MSE)\n",
    "    print(\"RMSE = \", RMSE)\n",
    "    print(\"MAPE = \", MAPE, \"%\")\n",
    "    return MAD, MSE, RMSE, MAPE"
   ]
  },
  {
   "cell_type": "code",
   "execution_count": null,
   "metadata": {},
   "outputs": [],
   "source": [
    "#讀取資料集\n",
    "df1 = pd.read_csv('excel/110.csv')\n",
    "print('Head of dataset:')\n",
    "display(df1.head())\n",
    "print(\"Tail of dataset:\")\n",
    "display(df1.tail())"
   ]
  },
  {
   "cell_type": "code",
   "execution_count": null,
   "metadata": {},
   "outputs": [],
   "source": [
    "for i in range(365):\n",
    "    df1['水庫進流量/立方公尺'][i] = int(df1['水庫進流量/立方公尺'][i].replace(\",\",\"\"))"
   ]
  },
  {
   "cell_type": "code",
   "execution_count": null,
   "metadata": {},
   "outputs": [],
   "source": [
    "mean_1 = np.zeros(12)\n",
    "print(mean_1)\n",
    "for i in range(1, 13):\n",
    "    #print(i)\n",
    "    if (i == 1) or (i == 2): \n",
    "        #print(i)\n",
    "        filt = (df1['日期'].str.contains(str(i)+'月', na=False)) & ~ (df1['日期'].str.contains('1'+str(i)+'月', na=False))\n",
    "    else:\n",
    "        filt = (df1['日期'].str.contains(str(i)+'月', na=False))\n",
    "    df = df1.loc[filt, ['日期', '水庫進流量/立方公尺']]\n",
    "    mean_1[i-1] = np.mean(df['水庫進流量/立方公尺'])\n",
    "\n",
    "print(mean_1)\n",
    "#print(df['水庫進流量/立方公尺'])\n",
    "#print(df1.loc[filt, ['日期', '水庫進流量/立方公尺']])"
   ]
  },
  {
   "cell_type": "code",
   "execution_count": null,
   "metadata": {},
   "outputs": [],
   "source": [
    "#讀取資料集\n",
    "df2 = pd.read_csv('excel/109.csv')\n",
    "print('Head of dataset:')\n",
    "display(df2.head())\n",
    "print(\"Tail of dataset:\")\n",
    "display(df2.tail())"
   ]
  },
  {
   "cell_type": "code",
   "execution_count": null,
   "metadata": {},
   "outputs": [],
   "source": [
    "for i in range(366):\n",
    "    df2['水庫進流量/立方公尺'][i] = int(df2['水庫進流量/立方公尺'][i].replace(\",\",\"\"))"
   ]
  },
  {
   "cell_type": "code",
   "execution_count": null,
   "metadata": {},
   "outputs": [],
   "source": [
    "mean_2 = np.zeros(12)\n",
    "print(mean_2)\n",
    "for i in range(1, 13):\n",
    "    #print(i)\n",
    "    if (i == 1) or (i == 2): \n",
    "        #print(i)\n",
    "        filt = (df2['日期'].str.contains(str(i)+'月', na=False)) & ~ (df2['日期'].str.contains('1'+str(i)+'月', na=False))\n",
    "    else:\n",
    "        filt = (df2['日期'].str.contains(str(i)+'月', na=False))\n",
    "    df = df2.loc[filt, ['日期', '水庫進流量/立方公尺']]\n",
    "    mean_2[i-1] = np.mean(df['水庫進流量/立方公尺'])\n",
    "\n",
    "print(mean_2)\n",
    "#print(df['水庫進流量/立方公尺'])\n",
    "#print(df1.loc[filt, ['日期', '水庫進流量/立方公尺']])"
   ]
  },
  {
   "cell_type": "code",
   "execution_count": null,
   "metadata": {},
   "outputs": [],
   "source": [
    "#讀取資料集\n",
    "df3 = pd.read_csv('excel/108.csv')\n",
    "print('Head of dataset:')\n",
    "display(df3.head())\n",
    "print(\"Tail of dataset:\")\n",
    "display(df3.tail())"
   ]
  },
  {
   "cell_type": "code",
   "execution_count": null,
   "metadata": {},
   "outputs": [],
   "source": [
    "for i in range(365):\n",
    "    df3['水庫進流量/立方公尺'][i] = int(df3['水庫進流量/立方公尺'][i].replace(\",\",\"\"))"
   ]
  },
  {
   "cell_type": "code",
   "execution_count": null,
   "metadata": {},
   "outputs": [],
   "source": [
    "mean_3 = np.zeros(12)\n",
    "print(mean_3)\n",
    "for i in range(1, 13):\n",
    "    #print(i)\n",
    "    if (i == 1) or (i == 2): \n",
    "        #print(i)\n",
    "        filt = (df3['日期'].str.contains(str(i)+'月', na=False)) & ~ (df3['日期'].str.contains('1'+str(i)+'月', na=False))\n",
    "    else:\n",
    "        filt = (df3['日期'].str.contains(str(i)+'月', na=False))\n",
    "    df = df3.loc[filt, ['日期', '水庫進流量/立方公尺']]\n",
    "    mean_3[i-1] = np.mean(df['水庫進流量/立方公尺'])\n",
    "\n",
    "print(mean_3)\n",
    "#print(df['水庫進流量/立方公尺'])\n",
    "#print(df1.loc[filt, ['日期', '水庫進流量/立方公尺']])"
   ]
  },
  {
   "cell_type": "code",
   "execution_count": null,
   "metadata": {},
   "outputs": [],
   "source": [
    "mean = np.concatenate((mean_1, mean_2, mean_3), axis=None)\n",
    "#print(mean)\n",
    "\n",
    "df_1 = pd.DataFrame(mean, columns = ['mean'])\n",
    "print('Head of dataset:')\n",
    "display(df_1.head())\n",
    "print(\"Tail of dataset:\")\n",
    "display(df_1.tail())"
   ]
  },
  {
   "cell_type": "code",
   "execution_count": null,
   "metadata": {},
   "outputs": [],
   "source": [
    "t = range(1,df_1.shape[0]+1)\n",
    "df_1.insert(0, 'Period', t)\n",
    "#display(df_1)"
   ]
  },
  {
   "cell_type": "code",
   "execution_count": null,
   "metadata": {},
   "outputs": [],
   "source": [
    "t = range(0,df_1.shape[0])\n",
    "df_1.insert(2, 't', t)\n",
    "#display(df_1)"
   ]
  },
  {
   "cell_type": "code",
   "execution_count": null,
   "metadata": {},
   "outputs": [],
   "source": [
    "plt.scatter(df_1['Period'], df_1['mean'], color='blue')\n",
    "plt.plot(df_1['Period'], df_1['mean'], color='blue')\n",
    "sns.regplot(x = df_1['Period'], y = df_1['mean'], data = df_1, color = 'r', ci = None, scatter = False)\n",
    "plt.ylim(0, max(df_1['mean'])+5)\n",
    "plt.title('Line Plot for mean against period')\n",
    "plt.xlabel('period')\n",
    "plt.ylabel('mean')\n",
    "plt.show()"
   ]
  },
  {
   "cell_type": "code",
   "execution_count": null,
   "metadata": {},
   "outputs": [],
   "source": [
    "df_1_ts3_MA_S_result = pd.DataFrame(columns=[\"ma_ind\", \"SI_MA_res\"])\n",
    "df_1_ts3_MA_S_result = SI_MA(df_1['mean'], 12)\n",
    "df_1_ts3_MA_Idx = df_1_ts3_MA_S_result[\"ma_ind\"]\n",
    "print(df_1_ts3_MA_Idx)\n",
    "df_1_ts3_MA_Result = df_1_ts3_MA_S_result[\"SI_MA_res\"]\n",
    "display(df_1_ts3_MA_Result)\n",
    "plt.plot(df_1['t'], df_1_ts3_MA_Result['orig'])\n",
    "plt.plot(df_1['t'], df_1_ts3_MA_Result['Des_D'])\n",
    "plt.legend(labels=['org', 'Des_data'])\n",
    "plt.xlabel('time')\n",
    "plt.ylabel('Sales')\n",
    "plt.title('Sales by Moving Average Seasonal Index')\n",
    "plt.show()"
   ]
  },
  {
   "cell_type": "code",
   "execution_count": null,
   "metadata": {},
   "outputs": [],
   "source": [
    "y_data_df_1_ts3 = df_1_ts3_MA_Result['Des_D']\n",
    "X_data_ar_df_1_ts3 = np.array([df_1['t']])\n",
    "X_data_ar_df_1_ts3_T = X_data_ar_df_1_ts3.T\n",
    "X_data_df_1_ts3 = pd.DataFrame(X_data_ar_df_1_ts3_T, columns = ['t'])\n",
    "X_data_df_1_ts3 = sm.add_constant(X_data_df_1_ts3)\n",
    "olsmod_df_1_ts3_MA = sm.OLS(y_data_df_1_ts3, X_data_df_1_ts3)\n",
    "result_reg_df_1_ts3_MA = olsmod_df_1_ts3_MA.fit()\n",
    "print(result_reg_df_1_ts3_MA.summary())\n",
    "df_1_ts3_MA_st, df_1_ts3_MA_data, df_1_ts3_MA_ss2 = sso.summary_table(result_reg_df_1_ts3_MA, alpha=0.05)\n",
    "df_1_ts3_MA_y_pre = df_1_ts3_MA_data[:, 2]\n",
    "des_pre_df_1_ts3_MA = df_1_ts3_MA_y_pre\n",
    "print(des_pre_df_1_ts3_MA)"
   ]
  },
  {
   "cell_type": "code",
   "execution_count": null,
   "metadata": {},
   "outputs": [],
   "source": [
    "plt.plot(df_1['t'], df_1_ts3_MA_Result['orig'])\n",
    "plt.plot(df_1['t'], df_1_ts3_MA_Result['Des_D'])\n",
    "plt.plot(df_1['t'], des_pre_df_1_ts3_MA)\n",
    "plt.legend(labels=['org', 'Des_data', 'Line_pre'])\n",
    "plt.xlabel('time')\n",
    "plt.ylabel('Sales')\n",
    "plt.title('Sales by Moving Average Seasonal Index')\n",
    "plt.show()"
   ]
  },
  {
   "cell_type": "code",
   "execution_count": null,
   "metadata": {},
   "outputs": [],
   "source": [
    "df_1_ts3_MA_st, df_1_ts3_MA_data, df_1_ts3_MA_ss2 = sso.summary_table(result_reg_df_1_ts3_MA, alpha=0.05)\n",
    "df_1_ts3_MA_y_pre = df_1_ts3_MA_data[:, 2]\n",
    "df_1_ts3_MA_SD = df_1_ts3_MA_data[:, 10]\n",
    "print(df_1_ts3_MA_SD)\n",
    "plt.plot(df_1_ts3_MA_y_pre, df_1_ts3_MA_SD, 'o', color = 'gray')\n",
    "plt.axhline(y=2, color = 'red', lw = 0.8)\n",
    "plt.axhline(y=0, color = 'blue')\n",
    "plt.axhline(y=-2, color = 'red', lw = 0.8)\n",
    "plt.title('Standardized Residual Plot')\n",
    "plt.xlabel('Predicted y value')\n",
    "plt.ylabel('Standardized Residual')\n",
    "plt.show()"
   ]
  },
  {
   "cell_type": "code",
   "execution_count": null,
   "metadata": {},
   "outputs": [],
   "source": [
    "print('Shapiro Test')\n",
    "stat, p = stats.shapiro(df_1_ts3_MA_SD)\n",
    "print('Statistics=%.3f, p=%.3f' % (stat, p))\n",
    "df_1_ts3_MA_SD_median = statistics.median(df_1_ts3_MA_SD)\n",
    "#print('median = ', SD_median)\n",
    "Z_pval = runsTest(df_1_ts3_MA_SD, df_1_ts3_MA_SD_median) \n",
    "print('p_value for Z-statistic= ', Z_pval)\n",
    "print('\\n')\n",
    "print('The Durbin Watson test')\n",
    "d_w = Durbin_Watson_test(df_1_ts3_MA_SD)\n",
    "print('d value =', d_w)"
   ]
  },
  {
   "cell_type": "code",
   "execution_count": null,
   "metadata": {},
   "outputs": [],
   "source": [
    "df_1['Y_t1'] = df_1['mean'].shift(periods = 1)\n",
    "df_1_y1 = df_1.dropna()\n",
    "print(df_1_y1.shape)\n",
    "y_var = df_1_y1['mean'].values\n",
    "x_var_1 = df_1_y1['Y_t1'].values\n",
    "sns.regplot(x = x_var_1, y = y_var, data = df_1_y1, color = 'r', ci = None)\n",
    "plt.title('Line Plot for Percent_Change')\n",
    "plt.xlabel('Y_t1')\n",
    "plt.ylabel('Percent_Change')\n",
    "plt.show()"
   ]
  },
  {
   "cell_type": "code",
   "execution_count": null,
   "metadata": {},
   "outputs": [],
   "source": [
    "df_1_mod = AutoReg(df_1['mean'], 1, old_names=False)\n",
    "df_1_res = df_1_mod.fit()\n",
    "print(df_1_res.summary())"
   ]
  },
  {
   "cell_type": "code",
   "execution_count": null,
   "metadata": {},
   "outputs": [],
   "source": [
    "df_1_ts3_MA_st, df_1_ts3_MA_data, df_1_ts3_MA_ss2 = sso.summary_table(result_reg_df_1_ts3_MA, alpha=0.05)\n",
    "df_1_ts3_MA_y_pre = df_1_ts3_MA_data[:, 2]\n",
    "df_1_ts3_MA_SD = df_1_ts3_MA_data[:, 10]\n",
    "print(df_1_ts3_MA_SD)\n",
    "plt.plot(df_1_ts3_MA_y_pre, df_1_ts3_MA_SD, 'o', color = 'gray')\n",
    "plt.axhline(y=2, color = 'red', lw = 0.8)\n",
    "plt.axhline(y=0, color = 'blue')\n",
    "plt.axhline(y=-2, color = 'red', lw = 0.8)\n",
    "plt.title('Standardized Residual Plot')\n",
    "plt.xlabel('Predicted y value')\n",
    "plt.ylabel('Standardized Residual')\n",
    "plt.show()"
   ]
  },
  {
   "cell_type": "code",
   "execution_count": null,
   "metadata": {},
   "outputs": [],
   "source": [
    "print('Shapiro Test')\n",
    "stat, p = stats.shapiro(df_1_ts3_MA_SD)\n",
    "print('Statistics=%.3f, p=%.3f' % (stat, p))\n",
    "df_1_ts3_MA_SD_median = statistics.median(df_1_ts3_MA_SD)\n",
    "#print('median = ', SD_median)\n",
    "Z_pval = runsTest(df_1_ts3_MA_SD, df_1_ts3_MA_SD_median) \n",
    "print('p_value for Z-statistic= ', Z_pval)\n",
    "print('\\n')\n",
    "print('The Durbin Watson test')\n",
    "d_w = Durbin_Watson_test(df_1_ts3_MA_SD)\n",
    "print('d value =', d_w)"
   ]
  },
  {
   "cell_type": "code",
   "execution_count": null,
   "metadata": {},
   "outputs": [],
   "source": [
    "Sea_pre_df_1_ts3_MA = des_pre_df_1_ts3_MA * df_1_ts3_MA_Result['SeaIdx']\n",
    "New_t = np.array([36, 37, 38, 39, 40, 41, 42, 43, 44, 45, 46, 47])\n",
    "Total_t = np.append(df_1['t'], New_t)\n",
    "New_t = sm.add_constant(New_t)\n",
    "df_1_ts3_MA_des_pre_New_t = result_reg_df_1_ts3_MA.predict(New_t)\n",
    "print('New Des Prediction', df_1_ts3_MA_des_pre_New_t)\n",
    "df_1_ts3_MA_Sea_pre_New_t = df_1_ts3_MA_des_pre_New_t * df_1_ts3_MA_Idx\n",
    "print('New Prediction', df_1_ts3_MA_Sea_pre_New_t)\n",
    "New_Nan = np.zeros(New_t.shape[0])\n",
    "New_Nan[:] = np.nan\n",
    "df_1_ts3_MA_New_orig = np.append(df_1_ts3_MA_Result['orig'], New_Nan)\n",
    "df_1_ts3_MA_New_Des_D = np.append(df_1_ts3_MA_Result['Des_D'], New_Nan)\n",
    "df_1_ts3_MA_New_des_pre = np.append(des_pre_df_1_ts3_MA, df_1_ts3_MA_des_pre_New_t)\n",
    "df_1_ts3_MA_New_Sea_pre = np.append(Sea_pre_df_1_ts3_MA, df_1_ts3_MA_Sea_pre_New_t)\n",
    "df_1_ts3_MA_S_a = np.array([Total_t, df_1_ts3_MA_New_orig, df_1_ts3_MA_New_Des_D, df_1_ts3_MA_New_des_pre, df_1_ts3_MA_New_Sea_pre])\n",
    "df_1_ts3_MA_S_df = pd.DataFrame(df_1_ts3_MA_S_a.T, columns=['time', 'org', 'Des_data', 'Line_pre', 'Seasonal Pre'])\n",
    "display(df_1_ts3_MA_S_df)\n",
    "plt.plot(Total_t, df_1_ts3_MA_New_Des_D)\n",
    "plt.plot(Total_t, df_1_ts3_MA_New_des_pre)\n",
    "plt.plot(Total_t, df_1_ts3_MA_New_Sea_pre)\n",
    "#plt.ylim(0, MA_Result['orig'])+5)\n",
    "plt.legend(labels=['org', 'Des_data', 'Line_pre', 'Seasonal Pre'])\n",
    "plt.xlabel('time')\n",
    "plt.ylabel('Sales')\n",
    "plt.title('Sales by Moving Average Seasonal Index')\n",
    "plt.show()"
   ]
  },
  {
   "cell_type": "markdown",
   "metadata": {},
   "source": [
    "# regress model"
   ]
  },
  {
   "cell_type": "code",
   "execution_count": null,
   "metadata": {},
   "outputs": [],
   "source": [
    "# Read data\n",
    "# 110\n",
    "dfa = pd.read_csv('excel/110.csv',encoding = 'utf-8')\n",
    "\n",
    "month = []\n",
    "for i in dfa['日期']:\n",
    "     month.append(int(i.split('月')[0]))\n",
    "data = {'month': month,\n",
    "        'water_in': dfa['水庫進流量/立方公尺'].str.replace(\",\",\"\").astype(int)}\n",
    "df1 = pd.DataFrame(data)\n",
    "\n",
    "df2 = pd.DataFrame(df1.groupby('month').mean())\n",
    "water_in = np.array(df2[\"water_in\"])\n",
    "month = np.array(df2.index)\n",
    "\n",
    "data2 = {'year': 108,\n",
    "        'month': month,\n",
    "        'water_in': water_in}\n",
    "df110 = pd.DataFrame(data2)\n",
    "\n",
    "# 109\n",
    "dfa = pd.read_csv('excel/109.csv',encoding = 'utf-8')\n",
    "\n",
    "month = []\n",
    "for i in dfa['日期']:\n",
    "     month.append(int(i.split('月')[0]))\n",
    "data = {'month': month,\n",
    "        'water_in': dfa['水庫進流量/立方公尺'].str.replace(\",\",\"\").astype(int)}\n",
    "df1 = pd.DataFrame(data)\n",
    "\n",
    "df2 = pd.DataFrame(df1.groupby('month').mean())\n",
    "water_in = np.array(df2[\"water_in\"])\n",
    "month = np.array(df2.index)\n",
    "\n",
    "data2 = {'year': 109,\n",
    "        'month': month,\n",
    "        'water_in': water_in}\n",
    "df109 = pd.DataFrame(data2)\n",
    "\n",
    "#108\n",
    "dfa = pd.read_csv('excel/108.csv',encoding = 'utf-8')\n",
    "\n",
    "month = []\n",
    "for i in dfa['日期']:\n",
    "     month.append(int(i.split('月')[0]))\n",
    "data = {'month': month,\n",
    "        'water_in': dfa['水庫進流量/立方公尺'].str.replace(\",\",\"\").astype(int)}\n",
    "df1 = pd.DataFrame(data)\n",
    "\n",
    "df2 = pd.DataFrame(df1.groupby('month').mean())\n",
    "water_in = np.array(df2[\"water_in\"])\n",
    "month = np.array(df2.index)\n",
    "\n",
    "data2 = {'year': 110,\n",
    "        'month': month,\n",
    "        'water_in': water_in}\n",
    "df108 = pd.DataFrame(data2)\n",
    "\n",
    "# final data\n",
    "frames = [df108, df109, df110]\n",
    "dff = pd.concat(frames)\n",
    "dff.reset_index(drop=True, inplace=True)\n",
    "display(dff)"
   ]
  },
  {
   "cell_type": "code",
   "execution_count": null,
   "metadata": {},
   "outputs": [],
   "source": [
    "# Regression\n",
    "Month_dummy = pd.get_dummies(dff['month'], prefix = 'month')\n",
    "df20_3d = pd.concat([dff, Month_dummy], axis = 1)\n",
    "df20_3d.head()\n",
    "\n",
    "y_data_df20_3d = dff['water_in']\n",
    "td_r = np.arange(0, len(dff['water_in']), 1)\n",
    "X_data_ar_df20_3d = np.array([td_r, df20_3d['month_1'], df20_3d['month_2'], df20_3d['month_3'], df20_3d['month_4'], df20_3d['month_5'], df20_3d['month_6']\n",
    "                              , df20_3d['month_7'], df20_3d['month_8'], df20_3d['month_9'], df20_3d['month_10'], df20_3d['month_11']])\n",
    "X_data_ar_df20_3d_T = X_data_ar_df20_3d.T\n",
    "X_data_df20_3d = pd.DataFrame(X_data_ar_df20_3d_T, columns = ['t', 'month_1', 'month_2', 'month_3', 'month_4', 'month_5', 'month_6'\n",
    "                                                              , 'month_7', 'month_8', 'month_9', 'month_10', 'month_11'])\n",
    "X_data_df20_3d = sm.add_constant(X_data_df20_3d)\n",
    "olsmod_df20_3d_DM = sm.OLS(y_data_df20_3d, X_data_df20_3d)\n",
    "result_reg_df20_3d_DM = olsmod_df20_3d_DM.fit()\n",
    "print(result_reg_df20_3d_DM.summary())\n",
    "\n",
    "df20_3d_DM_st, df20_3d_DM_data, df20_3d_DM_ss2 = sso.summary_table(result_reg_df20_3d_DM, alpha=0.05)\n",
    "df20_3d_DM_y_pre = df20_3d_DM_data[:, 2]\n",
    "df20_3d_DM_SD = df20_3d_DM_data[:, 10]\n",
    "des_pre_df20_3d_DM = df20_3d_DM_y_pre\n",
    "print('Fitted Values', des_pre_df20_3d_DM)\n",
    "\n",
    "# Line Chart\n",
    "plt.plot(td_r, dff['water_in'])\n",
    "plt.plot(td_r, des_pre_df20_3d_DM)\n",
    "plt.legend(labels=['orig', 'Line_pre'])\n",
    "plt.xlabel('time')\n",
    "plt.ylabel('water_in')\n",
    "plt.title('Water In by LR Dummy Variables')\n",
    "plt.show()\n",
    "\n",
    "# Coefficient of Correlation\n",
    "df1_2 = X_data_df20_3d[['t', 'month_1', 'month_2', 'month_3', 'month_4', 'month_5', 'month_6', 'month_7', 'month_8', 'month_9', 'month_10', 'month_11']]\n",
    "corr1 = df1_2.corr()\n",
    "corr1\n",
    "_ = sns.heatmap(corr1, annot=True)"
   ]
  },
  {
   "cell_type": "markdown",
   "metadata": {},
   "source": [
    "<h2>Perform the residual analysis:"
   ]
  },
  {
   "cell_type": "code",
   "execution_count": null,
   "metadata": {},
   "outputs": [],
   "source": [
    "# Standardized Residuals\n",
    "st, data, ss2 = sso.summary_table(result_reg_df20_3d_DM, alpha=0.05)\n",
    "print(\"Columns in data are: %s\" % ss2)\n",
    "#Predicted value\n",
    "y_pre = data[:, 2]\n",
    "#Studentized Residual\n",
    "SD = data[:, 10]"
   ]
  },
  {
   "cell_type": "markdown",
   "metadata": {},
   "source": [
    "Test 1: Normality Test\n",
    "\n",
    "Hypothesis:<br>\n",
    "H0: Errors are normally distributed.<br>\n",
    "H1: Errors are not normally distributed.<br>"
   ]
  },
  {
   "cell_type": "markdown",
   "metadata": {},
   "source": [
    "Because p_value = 0.180 > a = 0.05, do not rejected H0. We can assume that errors are normally distributed."
   ]
  },
  {
   "cell_type": "markdown",
   "metadata": {},
   "source": [
    "Test 2: Homoscedasticity and Heteroscedasticity:\n",
    "\n",
    "Hypothesis:<br>\n",
    "H0: Homoscedasticity<br>\n",
    "H1: Heteroscedasticity"
   ]
  },
  {
   "cell_type": "code",
   "execution_count": null,
   "metadata": {},
   "outputs": [],
   "source": [
    "#Test 2: Homoscedasticity and Heteroscedasticity:\n",
    "plt.plot(y_pre, SD, 'o', color = 'gray')\n",
    "plt.axhline(y=2, color = 'red', lw = 0.8)\n",
    "plt.axhline(y=0, color = 'blue')\n",
    "plt.axhline(y=-2, color = 'red', lw = 0.8)\n",
    "plt.title('Standardized Residual Plot')\n",
    "plt.xlabel('Predicted y value')\n",
    "plt.ylabel('Standardized Residual')\n",
    "plt.show()"
   ]
  },
  {
   "cell_type": "markdown",
   "metadata": {},
   "source": [
    "Do not rejected H0. We can assume that the variation is constant and the mean is around 0."
   ]
  },
  {
   "cell_type": "markdown",
   "metadata": {},
   "source": [
    "Test 3: Dependence of the Error Variable:<br>\n",
    "\n",
    "Hypothesis:<br>\n",
    "H0 : Randomness exists.<br>\n",
    "H1 : Randomness does not exist."
   ]
  },
  {
   "cell_type": "markdown",
   "metadata": {},
   "source": [
    "Because p-value = 0.3102968672638191 > a = 0.05, do not reject H0.\n",
    "There is no evidence to infer that the sample is not random."
   ]
  },
  {
   "cell_type": "markdown",
   "metadata": {},
   "source": [
    "All required conditions satisfied."
   ]
  },
  {
   "cell_type": "markdown",
   "metadata": {},
   "source": [
    "Multicollinearity analysis:\n",
    "\n",
    "According to the OLS Regression Results chart and the correlation table above.<br>\n",
    "The model is valid (F-statistic pvalue = 0.00132 < 0.05 rejects null hypothesis, r-squared is 0.242).<br>\n",
    "Lot size (0.216), Distance (0.058) p-value of T-test rejects null hypothesis, Trees (0.004) p-value of T-test do not rejects null hypothesis.<br>\n",
    "The sign of the correlations are the same as the coefficents.<br>\n",
    "Thus, there is no multicollinearity issue in this model."
   ]
  },
  {
   "cell_type": "markdown",
   "metadata": {},
   "source": [
    "Right-tail test for First Order Auto-Correlation:<br>\n",
    "H0: The data are not first-order correlated<br>\n",
    "H1: The data are first-order correlated"
   ]
  },
  {
   "cell_type": "markdown",
   "metadata": {},
   "source": [
    "(T = 36, K = 12, alpha = 0.05): dl = 0.748 , du = 2.398<br>??\n",
    "2 - dl < d = 1.5667996478416744 < 2. Thus, there is not enough evidence to infer that first order auto-correlation exists."
   ]
  },
  {
   "cell_type": "markdown",
   "metadata": {},
   "source": [
    "<h2>#############################"
   ]
  },
  {
   "cell_type": "markdown",
   "metadata": {},
   "source": [
    "<h2>Predict"
   ]
  },
  {
   "cell_type": "markdown",
   "metadata": {},
   "source": [
    "New_t = np.array([[20, 1, 0, 0],[21, 0, 1, 0], [22, 0, 0, 1], [23, 0, 0, 0]])\n",
    "Total_t = np.append(td_r, New_t[:,0])\n",
    "New_t = sm.add_constant(New_t)\n",
    "df20_3d_DM_pre_New_t = result_reg_df20_3d_DM.predict(New_t)\n",
    "print('New Dummy Season Prediction', df20_3d_DM_pre_New_t)\n",
    "New_Nan = np.zeros(New_t.shape[0])\n",
    "New_Nan[:] = np.nan\n",
    "df20_3d_DM_New_orig = np.append(df20_3['Rate'], New_Nan)\n",
    "df20_3d_DM_New_pre = np.append(des_pre_df20_3d_DM, df20_3d_DM_pre_New_t)\n",
    "plt.plot(Total_t, df20_3d_DM_New_orig)\n",
    "plt.plot(Total_t, df20_3d_DM_New_pre)\n",
    "plt.legend(labels=['org', 'Line_pre'])\n",
    "plt.xlabel('time')\n",
    "plt.ylabel('Sales')\n",
    "plt.title('Hotel Occupancy Rates by LR Dummy Variables')\n",
    "plt.show()"
   ]
  },
  {
   "cell_type": "markdown",
   "metadata": {},
   "source": [
    "# SLR"
   ]
  },
  {
   "cell_type": "code",
   "execution_count": null,
   "metadata": {},
   "outputs": [],
   "source": [
    "# Reading dataset\n",
    "# 讀取資料集\n",
    "df108 = pd.read_csv('excel/108.csv',encoding = 'utf-8')\n",
    "\n",
    "# 簡單看一下資料集的樣子\n",
    "\n",
    "print('Head of dataset:')\n",
    "display(df108.head())\n",
    "\n",
    "print(\"Tail of dataset:\")\n",
    "display(df108.tail())"
   ]
  },
  {
   "cell_type": "code",
   "execution_count": null,
   "metadata": {},
   "outputs": [],
   "source": [
    "for i in range(365):\n",
    "    df108['水庫進流量/立方公尺'][i] = int(df108['水庫進流量/立方公尺'][i].replace(\",\",\"\"))\n",
    "df108['水庫進流量/立方公尺']"
   ]
  },
  {
   "cell_type": "code",
   "execution_count": null,
   "metadata": {},
   "outputs": [],
   "source": [
    "df108data = []\n",
    "df108data.append(df108['水庫進流量/立方公尺'].iloc[:31].mean())\n",
    "df108data.append(df108['水庫進流量/立方公尺'].iloc[31:59].mean())\n",
    "df108data.append(df108['水庫進流量/立方公尺'].iloc[59:90].mean())\n",
    "df108data.append(df108['水庫進流量/立方公尺'].iloc[90:120].mean())\n",
    "df108data.append(df108['水庫進流量/立方公尺'].iloc[120:151].mean())\n",
    "df108data.append(df108['水庫進流量/立方公尺'].iloc[151:181].mean())\n",
    "df108data.append(df108['水庫進流量/立方公尺'].iloc[181:212].mean())\n",
    "df108data.append(df108['水庫進流量/立方公尺'].iloc[212:243].mean())\n",
    "df108data.append(df108['水庫進流量/立方公尺'].iloc[243:273].mean())\n",
    "df108data.append(df108['水庫進流量/立方公尺'].iloc[273:304].mean())\n",
    "df108data.append(df108['水庫進流量/立方公尺'].iloc[304:334].mean())\n",
    "df108data.append(df108['水庫進流量/立方公尺'].iloc[334:365].mean())\n",
    "for i in range(12):\n",
    "    df108data[i] = round(df108data[i])\n",
    "    \n",
    "len(df108data)"
   ]
  },
  {
   "cell_type": "code",
   "execution_count": null,
   "metadata": {},
   "outputs": [],
   "source": [
    "# Reading dataset\n",
    "# 讀取資料集\n",
    "df109 = pd.read_csv('excel/109.csv',encoding = 'utf-8')\n",
    "\n",
    "# 簡單看一下資料集的樣子\n",
    "\n",
    "print('Head of dataset:')\n",
    "display(df109.head())\n",
    "\n",
    "print(\"Tail of dataset:\")\n",
    "display(df109.tail())"
   ]
  },
  {
   "cell_type": "code",
   "execution_count": null,
   "metadata": {},
   "outputs": [],
   "source": [
    "for i in range(df109.shape[0]):\n",
    "    df109['水庫進流量/立方公尺'][i] = int(df109['水庫進流量/立方公尺'][i].replace(\",\",\"\"))\n",
    "df109['水庫進流量/立方公尺']"
   ]
  },
  {
   "cell_type": "code",
   "execution_count": null,
   "metadata": {},
   "outputs": [],
   "source": [
    "df109data = []\n",
    "df109data.append(df109['水庫進流量/立方公尺'].iloc[:31].mean())\n",
    "df109data.append(df109['水庫進流量/立方公尺'].iloc[31:60].mean())\n",
    "df109data.append(df109['水庫進流量/立方公尺'].iloc[60:91].mean())\n",
    "df109data.append(df109['水庫進流量/立方公尺'].iloc[91:121].mean())\n",
    "df109data.append(df109['水庫進流量/立方公尺'].iloc[121:152].mean())\n",
    "df109data.append(df109['水庫進流量/立方公尺'].iloc[152:182].mean())\n",
    "df109data.append(df109['水庫進流量/立方公尺'].iloc[182:213].mean())\n",
    "df109data.append(df109['水庫進流量/立方公尺'].iloc[213:244].mean())\n",
    "df109data.append(df109['水庫進流量/立方公尺'].iloc[244:274].mean())\n",
    "df109data.append(df109['水庫進流量/立方公尺'].iloc[274:305].mean())\n",
    "df109data.append(df109['水庫進流量/立方公尺'].iloc[305:335].mean())\n",
    "df109data.append(df109['水庫進流量/立方公尺'].iloc[335:366].mean())\n",
    "for i in range(12):\n",
    "    df109data[i] = round(df109data[i])\n",
    "    \n",
    "df109data"
   ]
  },
  {
   "cell_type": "code",
   "execution_count": null,
   "metadata": {},
   "outputs": [],
   "source": [
    "# Reading dataset\n",
    "# 讀取資料集\n",
    "df110 = pd.read_csv('excel/110.csv',encoding = 'utf-8')\n",
    "\n",
    "# 簡單看一下資料集的樣子\n",
    "\n",
    "print('Head of dataset:')\n",
    "display(df110.head())\n",
    "\n",
    "print(\"Tail of dataset:\")\n",
    "display(df110.tail())"
   ]
  },
  {
   "cell_type": "code",
   "execution_count": null,
   "metadata": {},
   "outputs": [],
   "source": [
    "for i in range(df110.shape[0]):\n",
    "    df110['水庫進流量/立方公尺'][i] = int(df110['水庫進流量/立方公尺'][i].replace(\",\",\"\"))\n",
    "df110['水庫進流量/立方公尺']"
   ]
  },
  {
   "cell_type": "code",
   "execution_count": null,
   "metadata": {},
   "outputs": [],
   "source": [
    "df110data = []\n",
    "df110data.append(df110['水庫進流量/立方公尺'].iloc[:31].mean())\n",
    "df110data.append(df110['水庫進流量/立方公尺'].iloc[31:59].mean())\n",
    "df110data.append(df110['水庫進流量/立方公尺'].iloc[59:90].mean())\n",
    "df110data.append(df110['水庫進流量/立方公尺'].iloc[90:120].mean())\n",
    "df110data.append(df110['水庫進流量/立方公尺'].iloc[120:151].mean())\n",
    "df110data.append(df110['水庫進流量/立方公尺'].iloc[151:181].mean())\n",
    "df110data.append(df110['水庫進流量/立方公尺'].iloc[181:212].mean())\n",
    "df110data.append(df110['水庫進流量/立方公尺'].iloc[212:243].mean())\n",
    "df110data.append(df110['水庫進流量/立方公尺'].iloc[243:273].mean())\n",
    "df110data.append(df110['水庫進流量/立方公尺'].iloc[273:304].mean())\n",
    "df110data.append(df110['水庫進流量/立方公尺'].iloc[304:334].mean())\n",
    "df110data.append(df110['水庫進流量/立方公尺'].iloc[334:365].mean())\n",
    "for i in range(12):\n",
    "    df110data[i] = round(df110data[i])\n",
    "    \n",
    "df110data"
   ]
  },
  {
   "cell_type": "code",
   "execution_count": null,
   "metadata": {},
   "outputs": [],
   "source": [
    "totalData = df108data + df109data + df110data\n",
    "print(len(totalData))\n",
    "print(totalData)"
   ]
  },
  {
   "cell_type": "code",
   "execution_count": null,
   "metadata": {},
   "outputs": [],
   "source": [
    "plt.rcParams['font.sans-serif'] = ['Microsoft JhengHei'] \n",
    "plt.rcParams['axes.unicode_minus'] = False\n",
    "# 上面這兩句有設應該就行了\n",
    "totalData_SILR = pd.DataFrame(columns=[\"LR_ind\", \"SI_LR_res\"])\n",
    "totalData_SILR = SI_LR(totalData, 12)\n",
    "totalData_LR_Idx = totalData_SILR[\"LR_ind\"]\n",
    "print(totalData_LR_Idx)\n",
    "totalData_LR_Result = totalData_SILR[\"SI_LR_res\"]\n",
    "display(totalData_LR_Result)\n",
    "t_r = np.arange(0, len(totalData), 1)\n",
    "plt.plot(t_r, totalData_LR_Result['orig'])\n",
    "plt.plot(t_r, totalData_LR_Result['Des_D'])\n",
    "plt.legend(labels=['org', 'Des_data'])\n",
    "plt.xlabel('time')\n",
    "plt.ylabel('月平均水庫進流量/立方公尺')\n",
    "plt.title('月平均水庫進流量/立方公尺')\n",
    "plt.show()"
   ]
  },
  {
   "cell_type": "code",
   "execution_count": null,
   "metadata": {},
   "outputs": [],
   "source": [
    "y_data_totalData_LR = totalData_LR_Result['Des_D']\n",
    "X_data_ar_totalData = np.array(t_r)\n",
    "X_data_ar_totalData_T = X_data_ar_totalData.T\n",
    "X_data_totalData = pd.DataFrame(X_data_ar_totalData_T, columns = ['t'])\n",
    "X_data_totalData = sm.add_constant(X_data_totalData)\n",
    "olsmod_totalData_LR = sm.OLS(y_data_totalData_LR, X_data_totalData)\n",
    "result_reg_totalData_LR = olsmod_totalData_LR.fit()\n",
    "print(result_reg_totalData_LR.summary())\n",
    "totalData_LR_st_1, totalData_LR_data_1, totalData_LR_ss2_1 = sso.summary_table(result_reg_totalData_LR, alpha=0.05)\n",
    "totalData_LR_y_pre_1 = totalData_LR_data_1[:, 2]\n",
    "totalData_LR_SD_1 = totalData_LR_data_1[:, 10]\n",
    "des_pre_totalData_LR = totalData_LR_y_pre_1\n",
    "print(des_pre_totalData_LR)\n",
    "plt.plot(t_r, totalData_LR_Result['orig'])\n",
    "plt.plot(t_r, totalData_LR_Result['Des_D'])\n",
    "plt.plot(t_r, des_pre_totalData_LR)\n",
    "plt.legend(labels=['org', 'Des_data', 'Line_pre'])\n",
    "plt.xlabel('time')\n",
    "plt.ylabel('月平均水庫進流量/立方公尺')\n",
    "plt.title('月平均水庫進流量/立方公尺 by Linear Regression Seasonal Index')\n",
    "plt.show()"
   ]
  },
  {
   "cell_type": "markdown",
   "metadata": {},
   "source": [
    "## Residual Analysis"
   ]
  },
  {
   "cell_type": "code",
   "execution_count": null,
   "metadata": {},
   "outputs": [],
   "source": [
    "totalData_st, totalData_data, totalData_ss2 = sso.summary_table(result_reg_totalData_LR, alpha=0.05)\n",
    "totalData_y_pre = totalData_data[:, 2]\n",
    "totalData_SD = totalData_data[:, 10]\n",
    "print(totalData_SD)\n",
    "plt.plot(totalData_y_pre, totalData_SD, 'o', color = 'gray')\n",
    "plt.axhline(y=2, color = 'red', lw = 0.8)\n",
    "plt.axhline(y=0, color = 'blue')\n",
    "plt.axhline(y=-2, color = 'red', lw = 0.8)\n",
    "plt.title('Standardized Residual Plot')\n",
    "plt.xlabel('Predicted y value')\n",
    "plt.ylabel('Standardized Residual')\n",
    "plt.show()\n",
    "print('Shapiro Test')\n",
    "stat, p = stats.shapiro(totalData_SD)\n",
    "print('Statistics=%.3f, p=%.3f' % (stat, p))\n",
    "totalData_SD_median = statistics.median(totalData_SD)\n",
    "#print('median = ', SD_median)\n",
    "Z_pval = runsTest(totalData_SD, totalData_SD_median) \n",
    "print('p_value for Z-statistic= ', Z_pval)\n",
    "print('\\n')\n",
    "print('The Durbin Watson test')\n",
    "d_w = Durbin_Watson_test(totalData_SD)\n",
    "print('d value =', d_w)"
   ]
  },
  {
   "cell_type": "markdown",
   "metadata": {},
   "source": [
    "n = 36, k = 1, alpha = 0.05\n",
    "\n",
    "dL=1.411, dU=1.525\n",
    "Because d value 1.1138025223787504 < dL = 1.411, the first order correlation exists."
   ]
  },
  {
   "cell_type": "markdown",
   "metadata": {},
   "source": [
    "## Forecasting"
   ]
  },
  {
   "cell_type": "code",
   "execution_count": null,
   "metadata": {},
   "outputs": [],
   "source": [
    "Sea_pre_totalData_LR = des_pre_totalData_LR * totalData_LR_Result['SeaIdx']\n",
    "New_t_1 = np.array([36, 37, 38, 39, 40, 41, 42, 43, 44, 45, 46, 47])\n",
    "Total_t_1 = np.append(t_r, New_t_1)\n",
    "New_t_1 = sm.add_constant(New_t_1)\n",
    "totalData_LR_des_pre_New_t_1 = result_reg_totalData_LR.predict(New_t_1)\n",
    "print('New Des Prediction', totalData_LR_des_pre_New_t_1)\n",
    "totalData_LR_Sea_pre_New_t_1 = totalData_LR_des_pre_New_t_1 * totalData_LR_Idx\n",
    "print('New Seasonal Prediction', totalData_LR_Sea_pre_New_t_1)\n",
    "New_Nan = np.zeros(New_t_1.shape[0])\n",
    "New_Nan[:] = np.nan\n",
    "totalData_LR_New_orig_1 = np.append(totalData_LR_Result['orig'], New_Nan)\n",
    "totalData_LR_New_Des_D_1 = np.append(totalData_LR_Result['Des_D'], New_Nan)\n",
    "totalData_LR_New_des_pre_1 = np.append(des_pre_totalData_LR, totalData_LR_des_pre_New_t_1)\n",
    "totalData_LR_New_Sea_pre_1 = np.append(Sea_pre_totalData_LR, totalData_LR_Sea_pre_New_t_1)\n",
    "totalData_LR_S_a = np.array([Total_t_1, totalData_LR_New_orig_1, totalData_LR_New_Des_D_1, totalData_LR_New_des_pre_1, totalData_LR_New_Sea_pre_1])\n",
    "totalData_LR_S_df = pd.DataFrame(totalData_LR_S_a.T, columns=['time', 'org', 'Des_data', 'Line_pre', 'Seasonal Pre'])\n",
    "display(totalData_LR_S_df)\n",
    "plt.plot(Total_t_1, totalData_LR_New_orig_1)\n",
    "plt.plot(Total_t_1, totalData_LR_New_Des_D_1)\n",
    "plt.plot(Total_t_1, totalData_LR_New_des_pre_1)\n",
    "plt.plot(Total_t_1, totalData_LR_New_Sea_pre_1)\n",
    "plt.legend(labels=['org', 'Des_data', 'Line_pre', 'Seasonal Pre'])\n",
    "plt.xlabel('time')\n",
    "plt.ylabel('月平均水庫進流量/立方公尺')\n",
    "plt.title('月平均水庫進流量/立方公尺 by Linear Regression Seasonal Index')\n",
    "plt.show()"
   ]
  },
  {
   "cell_type": "code",
   "execution_count": null,
   "metadata": {},
   "outputs": [],
   "source": [
    "print('Error Metrics for Seasonal Index by Moving Average')\n",
    "ch20_ts3_MA_Err_M = ErrMetrix(df_1['mean'], Sea_pre_df_1_ts3_MA)\n",
    "print('\\n')\n",
    "print('Error Metrics for Seasonal Index by LR')\n",
    "ch20_ts3_LR_Err_M = ErrMetrix(totalData, Sea_pre_totalData_LR)\n",
    "print('\\n')\n",
    "print('Error Metrics for LR Dummy')\n",
    "ch20_ts3d_DM_Err_M = ErrMetrix(dff['water_in'], des_pre_df20_3d_DM)\n",
    "ErrM_id = ['MAD', 'MSE', 'RMSE', 'MAPE']\n",
    "ch20_ts3_ErrM_a = np.array([ErrM_id, ch20_ts3_MA_Err_M, ch20_ts3_LR_Err_M, ch20_ts3d_DM_Err_M])\n",
    "ch20_ts3_ErrM_df = pd.DataFrame(ch20_ts3_ErrM_a.T, columns = ['ErrM', 'SIMA', 'SILR', 'Dummy'])\n",
    "print('dataset:')\n",
    "display(ch20_ts3_ErrM_df)"
   ]
  }
 ],
 "metadata": {
  "kernelspec": {
   "display_name": "Python 3",
   "language": "python",
   "name": "python3"
  },
  "language_info": {
   "codemirror_mode": {
    "name": "ipython",
    "version": 3
   },
   "file_extension": ".py",
   "mimetype": "text/x-python",
   "name": "python",
   "nbconvert_exporter": "python",
   "pygments_lexer": "ipython3",
   "version": "3.8.5"
  }
 },
 "nbformat": 4,
 "nbformat_minor": 4
}
